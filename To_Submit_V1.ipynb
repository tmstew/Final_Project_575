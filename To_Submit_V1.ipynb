{
 "cells": [
  {
   "cell_type": "code",
   "execution_count": null,
   "metadata": {},
   "outputs": [],
   "source": [
    "'''\n",
    "Notes for this version:\n",
    "1. wrote the whole thing into two functions\n",
    "2. used Ying's method for reading into drug data, \n",
    "        Ying and Joshua's method of merging data (using pd.merge function), \n",
    "        Ying's method for extra credit (modified)\n",
    "        (Applause!!)\n",
    "3. a few minor modification on the details of the code (more informative variable names, more concise, etc.)\n",
    "4. for discussion: \n",
    "1) filtered before merge, think this will make it faster\n",
    "2) for extra credit, separated entries with multiple genes and drugs \n",
    "3) other things to improve?\n",
    "\n",
    "# Result files are uploaded onto repo, added 'V1' before original file names\n",
    "'''\n"
   ]
  },
  {
   "cell_type": "code",
   "execution_count": 8,
   "metadata": {},
   "outputs": [],
   "source": [
    "import pandas as pd"
   ]
  },
  {
   "cell_type": "code",
   "execution_count": 14,
   "metadata": {},
   "outputs": [],
   "source": [
    "def merge_23andme_drug(me23_file, drug_file):\n",
    "    data23me_names = ['Chromosomes', 'Position', 'Variant', 'Allele']\n",
    "    data23me = pd.read_csv(me23_file, sep = '\\t', names = data23me_names)\n",
    "    data_var_drug = pd.read_csv(drug_file, sep = '\\t', error_bad_lines = False)\n",
    "    data_var_drug_filtered = data_var_drug.loc[(data_var_drug['Significance'] == 'yes') & (data_var_drug['Phenotype Category'] == 'efficacy')]\n",
    "    me23_drug_merged = pd.merge(data23me, data_var_drug_filtered).reset_index(drop = True)\n",
    "    output_df = me23_drug_merged.loc[: ,['Variant', 'Gene', 'Chemical', 'Notes', 'Sentence', 'Alleles', 'Allele']]\n",
    "    output_df.columns = ['dbSNP_ID', 'GENE_SYMBOL', 'DRUG_NAME', 'NOTES', 'SENTENCE', 'ALLELE_PharmGKB', 'ALLELE_23andme']\n",
    "    output_df_cleaned = output_df.fillna('(no entry)').replace(to_replace = '', value = '(no entry)')\n",
    "    return output_df_cleaned"
   ]
  },
  {
   "cell_type": "code",
   "execution_count": 15,
   "metadata": {},
   "outputs": [
    {
     "name": "stderr",
     "output_type": "stream",
     "text": [
      "b'Skipping line 7290: expected 12 fields, saw 16\\n'\n"
     ]
    }
   ],
   "source": [
    "me23_file = '~/Desktop/575FinalProject/23andme_v5_hg19_ref.txt'\n",
    "drug_file = '~/Desktop/575FinalProject/var_drug_ann.tsv'\n",
    "final_df = merge_23andme_drug(me23_file, drug_file)\n",
    "final_df.to_csv('23andme_PharmGKB_map.tsv', sep = '\\t')"
   ]
  },
  {
   "cell_type": "code",
   "execution_count": 94,
   "metadata": {},
   "outputs": [],
   "source": [
    "def gene_drug_group(merged_df):\n",
    "    small_df = merged_df.loc[:,['dbSNP_ID','GENE_SYMBOL','DRUG_NAME']]\n",
    "    new_df = small_df\n",
    "    for name_string in small_df.columns:\n",
    "        new_series = small_df[name_string].str.split(',', expand = True).stack()\n",
    "        new_series.index = new_series.index.droplevel(-1)\n",
    "        new_series.name = name_string\n",
    "        new_df = new_df.drop(axis = 1, labels = name_string).join(new_series)\n",
    "    group = new_df.groupby(['GENE_SYMBOL','DRUG_NAME'])['dbSNP_ID'].apply(';'.join)\n",
    "    df_group = pd.DataFrame(group)\n",
    "    return df_group"
   ]
  },
  {
   "cell_type": "code",
   "execution_count": 97,
   "metadata": {},
   "outputs": [],
   "source": [
    "df_group = gene_drug_group(final_df)\n",
    "df_group.to_csv('extra_credit.tsv', sep=\"\\t\")"
   ]
  },
  {
   "cell_type": "code",
   "execution_count": null,
   "metadata": {},
   "outputs": [],
   "source": []
  }
 ],
 "metadata": {
  "kernelspec": {
   "display_name": "Python 3",
   "language": "python",
   "name": "python3"
  },
  "language_info": {
   "codemirror_mode": {
    "name": "ipython",
    "version": 3
   },
   "file_extension": ".py",
   "mimetype": "text/x-python",
   "name": "python",
   "nbconvert_exporter": "python",
   "pygments_lexer": "ipython3",
   "version": "3.7.4"
  }
 },
 "nbformat": 4,
 "nbformat_minor": 2
}
